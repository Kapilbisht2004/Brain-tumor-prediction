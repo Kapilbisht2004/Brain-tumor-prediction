{
 "cells": [
  {
   "cell_type": "code",
   "execution_count": 1,
   "id": "f0782409-2aff-47f4-ad69-3ae5f29fa36e",
   "metadata": {},
   "outputs": [],
   "source": [
    "import os\n",
    "import numpy as np\n",
    "import cv2\n",
    "from sklearn.model_selection import train_test_split\n",
    "from sklearn.svm import SVC\n",
    "from sklearn.metrics import accuracy_score\n",
    "import pickle"
   ]
  },
  {
   "cell_type": "code",
   "execution_count": 3,
   "id": "d1ebf56e-b908-48c4-913f-39a7532181bd",
   "metadata": {},
   "outputs": [],
   "source": [
    "data_path = \"C:\\\\Users\\\\anshu\\\\OneDrive\\\\Desktop\\\\tumor_detect\\\\Training\\\\\"\n",
    "classes = {'no_tumor': 0, 'tumor': 1}\n",
    "\n",
    "X = []\n",
    "Y = []\n",
    "\n",
    "# Load and preprocess images\n",
    "for cls in classes:\n",
    "    cls_path = os.path.join(data_path, cls)\n",
    "    for img_name in os.listdir(cls_path):\n",
    "        img_path = os.path.join(cls_path, img_name)\n",
    "        img = cv2.imread(img_path, 0)  # Load image in grayscale\n",
    "        img = cv2.resize(img, (200, 200))  # Resize to 200x200\n",
    "        X.append(img)\n",
    "        Y.append(classes[cls])\n",
    "\n",
    "# Convert lists to numpy arrays\n",
    "X = np.array(X)\n",
    "Y = np.array(Y)\n",
    "\n",
    "# Reshape images and normalize pixel values\n",
    "X = X.reshape(len(X), -1) / 255.0  # Flatten and normalize"
   ]
  },
  {
   "cell_type": "code",
   "execution_count": 6,
   "id": "9f6db0c5-d46d-4ff7-831d-480f6e488d1a",
   "metadata": {},
   "outputs": [
    {
     "name": "stdout",
     "output_type": "stream",
     "text": [
      "(2296, 40000) (574, 40000)\n",
      "Training Accuracy: 1.0\n",
      "Testing Accuracy: 0.9494773519163763\n"
     ]
    }
   ],
   "source": [
    "from sklearn.model_selection import train_test_split\n",
    "from sklearn.decomposition import PCA\n",
    "from sklearn.svm import SVC\n",
    "\n",
    "# Split data into training and testing sets\n",
    "xtrain, xtest, ytrain, ytest = train_test_split(X, Y, test_size=0.2, random_state=10)\n",
    "\n",
    "print(xtrain.shape, xtest.shape)\n",
    "\n",
    "# Apply PCA\n",
    "pca = PCA(.98)  # Retains 98% of the variance\n",
    "pca_train = pca.fit_transform(xtrain)\n",
    "pca_test = pca.transform(xtest)\n",
    "\n",
    "# Train an SVM model\n",
    "svm = SVC(kernel='linear', probability=True)\n",
    "svm.fit(pca_train, ytrain)\n",
    "\n",
    "# Evaluate the model\n",
    "train_accuracy = svm.score(pca_train, ytrain)\n",
    "test_accuracy = svm.score(pca_test, ytest)\n",
    "\n",
    "print(\"Training Accuracy:\", train_accuracy)\n",
    "print(\"Testing Accuracy:\", test_accuracy)"
   ]
  },
  {
   "cell_type": "code",
   "execution_count": 7,
   "id": "6f8e0a06-445a-4f30-8043-27dd542cb494",
   "metadata": {},
   "outputs": [
    {
     "name": "stdout",
     "output_type": "stream",
     "text": [
      "Training Accuracy: 0.9982578397212544\n",
      "Testing Accuracy: 0.9494773519163763\n"
     ]
    }
   ],
   "source": [
    "from sklearn.linear_model import LogisticRegression\n",
    "lg=LogisticRegression(C=0.1, max_iter=1000)\n",
    "lg.fit(pca_train, ytrain)\n",
    "\n",
    "# Evaluate the model\n",
    "train_accuracy = lg.score(pca_train, ytrain)\n",
    "test_accuracy = lg.score(pca_test, ytest)\n",
    "\n",
    "print(\"Training Accuracy:\", train_accuracy)\n",
    "print(\"Testing Accuracy:\", test_accuracy)"
   ]
  },
  {
   "cell_type": "code",
   "execution_count": 9,
   "id": "38a45065-623d-4944-a626-7bb9e590e017",
   "metadata": {},
   "outputs": [
    {
     "name": "stdout",
     "output_type": "stream",
     "text": [
      "Model saved to C:\\Users\\anshu\\OneDrive\\Desktop\\tumor_detect\\tumor_classification_model.pkl\n"
     ]
    }
   ],
   "source": [
    "# Save the trained model as a .pkl file\n",
    "model_path = \"C:\\\\Users\\\\anshu\\\\OneDrive\\\\Desktop\\\\tumor_detect\\\\tumor_classification_model.pkl\"\n",
    "with open(model_path, 'wb') as f:\n",
    "    pickle.dump(svm, f)\n",
    "\n",
    "print(f\"Model saved to {model_path}\")"
   ]
  },
  {
   "cell_type": "code",
   "execution_count": 10,
   "id": "27d5abc9-e763-4aff-b0e7-318415f3397e",
   "metadata": {},
   "outputs": [
    {
     "name": "stdout",
     "output_type": "stream",
     "text": [
      "Model saved to C:\\Users\\anshu\\OneDrive\\Desktop\\tumor_detect\\tumor_classification_model_logistic.pkl\n"
     ]
    }
   ],
   "source": [
    "# Save the trained model as a .pkl file\n",
    "model_path = \"C:\\\\Users\\\\anshu\\\\OneDrive\\\\Desktop\\\\tumor_detect\\\\tumor_classification_model_logistic.pkl\"\n",
    "with open(model_path, 'wb') as f:\n",
    "    pickle.dump(lg, f)\n",
    "\n",
    "print(f\"Model saved to {model_path}\")"
   ]
  },
  {
   "cell_type": "code",
   "execution_count": null,
   "id": "08ee7048-e832-4028-8395-f7fad5ab36b8",
   "metadata": {},
   "outputs": [],
   "source": []
  }
 ],
 "metadata": {
  "kernelspec": {
   "display_name": "Python 3 (ipykernel)",
   "language": "python",
   "name": "python3"
  },
  "language_info": {
   "codemirror_mode": {
    "name": "ipython",
    "version": 3
   },
   "file_extension": ".py",
   "mimetype": "text/x-python",
   "name": "python",
   "nbconvert_exporter": "python",
   "pygments_lexer": "ipython3",
   "version": "3.12.4"
  }
 },
 "nbformat": 4,
 "nbformat_minor": 5
}
